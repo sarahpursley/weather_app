{
  "nbformat": 4,
  "nbformat_minor": 0,
  "metadata": {
    "colab": {
      "name": "Untitled0.ipynb",
      "provenance": [],
      "authorship_tag": "ABX9TyOeHilueXt72BNguILkzTVm",
      "include_colab_link": true
    },
    "kernelspec": {
      "name": "python3",
      "display_name": "Python 3"
    },
    "language_info": {
      "name": "python"
    }
  },
  "cells": [
    {
      "cell_type": "markdown",
      "metadata": {
        "id": "view-in-github",
        "colab_type": "text"
      },
      "source": [
        "<a href=\"https://colab.research.google.com/github/sarahpursley/weather_app/blob/main/main.ipynb\" target=\"_parent\"><img src=\"https://colab.research.google.com/assets/colab-badge.svg\" alt=\"Open In Colab\"/></a>"
      ]
    },
    {
      "cell_type": "code",
      "metadata": {
        "id": "fQX8FITmESou"
      },
      "source": [
        "import requests\n",
        "import json\n",
        "import pandas as pd\n",
        "\n",
        "url = 'http://api.weatherapi.com/v1/forecast.json?key=934bee22e81541bc893165903212004&q=91606&days=1&aqi=no&alerts=no'\n",
        "request = requests.get(url)\n",
        "response = request.json()\n",
        "\n",
        "weather_dict = dict(response)"
      ],
      "execution_count": 1,
      "outputs": []
    },
    {
      "cell_type": "code",
      "metadata": {
        "colab": {
          "base_uri": "https://localhost:8080/",
          "height": 35
        },
        "id": "xFf763bAEhRy",
        "outputId": "eb3dd9d9-9555-460e-a55d-9ffa43fc6d81"
      },
      "source": [
        "def current_location(dic):\n",
        "    loc = dic['location']\n",
        "    city = loc['name']\n",
        "    region = loc['region']\n",
        "    return city, region\n",
        "\n",
        "loc = current_location(weather_dict)\n",
        "location= ', '.join(loc)\n",
        "location"
      ],
      "execution_count": 2,
      "outputs": [
        {
          "output_type": "execute_result",
          "data": {
            "application/vnd.google.colaboratory.intrinsic+json": {
              "type": "string"
            },
            "text/plain": [
              "'North Hollywood, California'"
            ]
          },
          "metadata": {
            "tags": []
          },
          "execution_count": 2
        }
      ]
    },
    {
      "cell_type": "code",
      "metadata": {
        "id": "lABdCJvHEzp3"
      },
      "source": [
        "def convert_time(date):\n",
        "    return date.split(' ')[1]\n",
        "\n",
        "def current_temp(dic):\n",
        "    current = dic['current']\n",
        "    current_time = current['last_updated']\n",
        "    current_hour = convert_time(current_time)\n",
        "    current_temp = current['temp_f']\n",
        "    current_feel = current['feelslike_f']\n",
        "    uv = current['uv']\n",
        "\n",
        "    return current_time, current_hour, current_temp, current_feel, uv\n",
        "\n",
        "current_temp(weather_dict)"
      ],
      "execution_count": null,
      "outputs": []
    },
    {
      "cell_type": "code",
      "metadata": {
        "id": "8kF7UieLE0Sd"
      },
      "source": [
        "import datetime\n",
        "def forecast_day(dic):\n",
        "    forecast = dic['forecast']\n",
        "    forecast_day = forecast['forecastday'] # dict of dates\n",
        "    return forecast_day[0]\n",
        "\n",
        "def convert_date(date):\n",
        "    return date.split(' ')[1]\n",
        "\n",
        "f = forecast_day(weather_dict)\n",
        "new = {}\n",
        "for hour in f['hour']:\n",
        "    time = hour['time']\n",
        "    time = convert_date(time)\n",
        "    \n",
        "    condition_dict = hour['condition']\n",
        "    condition = condition_dict['text']\n",
        "    \n",
        "    tempf = hour['temp_f']\n",
        "    feelslike = hour['feelslike_f']\n",
        "    chance_rain = hour['chance_of_rain']\n",
        "    uv = hour['uv']\n",
        "    \n",
        "    if time in new:    # key exist in dict\n",
        "        continue\n",
        "    else:\n",
        "        # if not add key-value pair\n",
        "        new[time] = [condition,tempf,feelslike,chance_rain,uv]\n",
        "        \n",
        "#http://cdn.weatherapi.com/weather/64x64/night/113.png\n",
        "\n",
        "f"
      ],
      "execution_count": null,
      "outputs": []
    },
    {
      "cell_type": "code",
      "metadata": {
        "id": "S2P70crwE4zT"
      },
      "source": [
        "\n",
        "values = [\"condition\", \"temperature_f\", \"feels_like_f\", \"chance_of_rain\", \"uv_index\"]\n",
        "#data = {'row_1': [3, 2, 1, 0], 'row_2': ['a', 'b', 'c', 'd']}\n",
        "pd.DataFrame.from_dict(new, orient='index', columns = values)"
      ],
      "execution_count": null,
      "outputs": []
    },
    {
      "cell_type": "code",
      "metadata": {
        "id": "kXgwOe-0E9nx"
      },
      "source": [
        "pant_threshold = 65\n",
        "either_threshold = 70\n",
        "death = 90\n",
        "\n",
        "def pants_or_shorts(temp):\n",
        "    if temp < pant_threshold:\n",
        "        print('Wear pants dumbass')\n",
        "    elif temp > pant_threshold and temp < either_threshold:\n",
        "        print('Wear either idk')\n",
        "    elif temp >= either_threshold and temp < death:\n",
        "        print('Wear shorts or you will sweat to death')\n",
        "    else:\n",
        "        print(\"honestly wear nothing\")"
      ],
      "execution_count": null,
      "outputs": []
    }
  ]
}